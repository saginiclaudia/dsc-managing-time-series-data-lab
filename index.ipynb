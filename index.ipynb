{
 "cells": [
  {
   "cell_type": "markdown",
   "metadata": {},
   "source": [
    "# Managing Time Series Data - Lab\n",
    "\n",
    "## Introduction\n",
    "\n",
    "In the previous lesson, you learned that time series data are everywhere and working with time series data is an important skill for data scientists!\n",
    "\n",
    "In this lab, you'll practice your previously learned techniques to import, clean, and manipulate time series data.\n",
    "\n",
    "The lab will cover how to perform time series analysis while working with large datasets. The dataset can be memory intensive so your computer will need at least 2GB of memory to perform some of the calculations.\n",
    "\n",
    "\n",
    "## Objectives\n",
    "\n",
    "You will be able to:\n",
    "\n",
    "- Load time series data using pandas and perform time series indexing \n",
    "- Perform data cleaning operation on time series data \n",
    "- Change the granularity of a time series \n",
    "\n",
    "\n",
    "## Let's get started!\n",
    "\n",
    "Import the following libraries: \n",
    "\n",
    "* `pandas`, using the alias `pd` \n",
    "* `pandas.tseries` \n",
    "* `matplotlib.pyplot`, using the alias `plt` \n",
    "* `statsmodels.api`, using the alias `sm`"
   ]
  },
  {
   "cell_type": "code",
   "execution_count": 2,
   "metadata": {},
   "outputs": [],
   "source": [
    "# Load required libraries\n",
    "import pandas as pd\n",
    "import pandas.tseries\n",
    "import matplotlib.pyplot as plt\n",
    "import statsmodels.api as sm"
   ]
  },
  {
   "cell_type": "markdown",
   "metadata": {},
   "source": [
    "## Loading time series data\n",
    "The `statsmodels` library comes bundled with built-in datasets for experimentation and practice. A detailed description of these datasets can be found [here](http://www.statsmodels.org/dev/datasets/index.html). Using `statsmodels`, the time series datasets can be loaded straight into memory. \n",
    "\n",
    "In this lab, we'll use the **Atmospheric CO2 from Continuous Air Samples at Mauna Loa Observatory, Hawaii, U.S.A.**, containing CO2 samples from March 1958 to December 2001. Further details on this dataset are available [here](http://www.statsmodels.org/dev/datasets/generated/co2.html).\n",
    "\n",
    "In the following cell we: \n",
    "\n",
    "- Load the `co2` dataset using the `.load()` method \n",
    "- Converted this into a pandas DataFrame "
   ]
  },
  {
   "cell_type": "code",
   "execution_count": 3,
   "metadata": {},
   "outputs": [],
   "source": [
    "# Run this cell without changes\n",
    "\n",
    "# Load the 'co2' dataset from sm.datasets\n",
    "data_set = sm.datasets.co2.load()\n",
    "\n",
    "# load in the data_set into pandas dataframe\n",
    "CO2 = pd.DataFrame(data=data_set['data'])"
   ]
  },
  {
   "cell_type": "markdown",
   "metadata": {},
   "source": [
    "With all the required packages imported and the `CO2` dataset as a dataframe ready to go, we can move on to indexing our data.\n",
    "\n",
    "## Date Indexing\n",
    "\n",
    "While working with time series data in Python, having dates (or datetimes) in the index can be very helpful, especially if they are of `DatetimeIndex` type. Further details can be found [here](http://pandas.pydata.org/pandas-docs/stable/generated/pandas.Timestamp.html).\n",
    "\n",
    "The exact structure of the data from `sm.datasets` has changed over time depending on the version of StatsModels. So below we check whether the index is already a `DatetimeIndex`, and if it isn't, we set it to be one. Either way we'll also set the name of the index to be `date`."
   ]
  },
  {
   "cell_type": "code",
   "execution_count": 4,
   "metadata": {},
   "outputs": [
    {
     "data": {
      "text/html": [
       "<div>\n",
       "<style scoped>\n",
       "    .dataframe tbody tr th:only-of-type {\n",
       "        vertical-align: middle;\n",
       "    }\n",
       "\n",
       "    .dataframe tbody tr th {\n",
       "        vertical-align: top;\n",
       "    }\n",
       "\n",
       "    .dataframe thead th {\n",
       "        text-align: right;\n",
       "    }\n",
       "</style>\n",
       "<table border=\"1\" class=\"dataframe\">\n",
       "  <thead>\n",
       "    <tr style=\"text-align: right;\">\n",
       "      <th></th>\n",
       "      <th>co2</th>\n",
       "    </tr>\n",
       "    <tr>\n",
       "      <th>date</th>\n",
       "      <th></th>\n",
       "    </tr>\n",
       "  </thead>\n",
       "  <tbody>\n",
       "    <tr>\n",
       "      <th>1958-03-29</th>\n",
       "      <td>316.1</td>\n",
       "    </tr>\n",
       "    <tr>\n",
       "      <th>1958-04-05</th>\n",
       "      <td>317.3</td>\n",
       "    </tr>\n",
       "    <tr>\n",
       "      <th>1958-04-12</th>\n",
       "      <td>317.6</td>\n",
       "    </tr>\n",
       "    <tr>\n",
       "      <th>1958-04-19</th>\n",
       "      <td>317.5</td>\n",
       "    </tr>\n",
       "    <tr>\n",
       "      <th>1958-04-26</th>\n",
       "      <td>316.4</td>\n",
       "    </tr>\n",
       "  </tbody>\n",
       "</table>\n",
       "</div>"
      ],
      "text/plain": [
       "              co2\n",
       "date             \n",
       "1958-03-29  316.1\n",
       "1958-04-05  317.3\n",
       "1958-04-12  317.6\n",
       "1958-04-19  317.5\n",
       "1958-04-26  316.4"
      ]
     },
     "execution_count": 4,
     "metadata": {},
     "output_type": "execute_result"
    }
   ],
   "source": [
    "# Run this cell without changes\n",
    "\n",
    "# Confirm that date values are used for indexing purpose in the CO2 dataset \n",
    "if isinstance(CO2.index, pd.DatetimeIndex):\n",
    "    CO2.index.name = 'date'\n",
    "else:\n",
    "    CO2.rename(columns={'index':'date'}, inplace=True)\n",
    "    CO2.set_index('date', inplace=True)\n",
    "    \n",
    "CO2.head()"
   ]
  },
  {
   "cell_type": "markdown",
   "metadata": {},
   "source": [
    "We can also inspect the index itself:"
   ]
  },
  {
   "cell_type": "code",
   "execution_count": 5,
   "metadata": {},
   "outputs": [
    {
     "data": {
      "text/plain": [
       "DatetimeIndex(['1958-03-29', '1958-04-05', '1958-04-12', '1958-04-19',\n",
       "               '1958-04-26', '1958-05-03', '1958-05-10', '1958-05-17',\n",
       "               '1958-05-24', '1958-05-31',\n",
       "               ...\n",
       "               '2001-10-27', '2001-11-03', '2001-11-10', '2001-11-17',\n",
       "               '2001-11-24', '2001-12-01', '2001-12-08', '2001-12-15',\n",
       "               '2001-12-22', '2001-12-29'],\n",
       "              dtype='datetime64[ns]', name='date', length=2284, freq=None)"
      ]
     },
     "execution_count": 5,
     "metadata": {},
     "output_type": "execute_result"
    }
   ],
   "source": [
    "# Run this cell without changes\n",
    "CO2.index"
   ]
  },
  {
   "cell_type": "markdown",
   "metadata": {},
   "source": [
    "The output above shows that our dataset clearly fulfills the indexing requirements. Look at the last line:\n",
    "\n",
    "\n",
    "> **dtype='datetime64[ns]',... length=2284,...'**\n",
    "\n",
    "\n",
    "* `dtype=datetime[ns]` field confirms that the index is made of timestamp objects.\n",
    "* `length=2284` shows the total number of entries in our time series data. \n",
    "\n",
    "## Resampling\n",
    "\n",
    "Remember that depending on the nature of analytical question, the resolution of timestamps can also be changed to other frequencies. For this dataset we can resample to monthly CO2 consumption values. This can be done by using the `.resample()` method as seen in the earlier lesson. \n",
    "\n",
    "* Group the data into buckets representing 1 month using `.resample()` method \n",
    "* Call the `.mean()` method on each group (i.e. get monthly average) \n",
    "* Combine the result as one row per monthly group "
   ]
  },
  {
   "cell_type": "code",
   "execution_count": 7,
   "metadata": {},
   "outputs": [
    {
     "data": {
      "text/html": [
       "<div>\n",
       "<style scoped>\n",
       "    .dataframe tbody tr th:only-of-type {\n",
       "        vertical-align: middle;\n",
       "    }\n",
       "\n",
       "    .dataframe tbody tr th {\n",
       "        vertical-align: top;\n",
       "    }\n",
       "\n",
       "    .dataframe thead th {\n",
       "        text-align: right;\n",
       "    }\n",
       "</style>\n",
       "<table border=\"1\" class=\"dataframe\">\n",
       "  <thead>\n",
       "    <tr style=\"text-align: right;\">\n",
       "      <th></th>\n",
       "      <th>co2</th>\n",
       "    </tr>\n",
       "    <tr>\n",
       "      <th>date</th>\n",
       "      <th></th>\n",
       "    </tr>\n",
       "  </thead>\n",
       "  <tbody>\n",
       "    <tr>\n",
       "      <th>1958-03-01</th>\n",
       "      <td>316.100000</td>\n",
       "    </tr>\n",
       "    <tr>\n",
       "      <th>1958-04-01</th>\n",
       "      <td>317.200000</td>\n",
       "    </tr>\n",
       "    <tr>\n",
       "      <th>1958-05-01</th>\n",
       "      <td>317.433333</td>\n",
       "    </tr>\n",
       "    <tr>\n",
       "      <th>1958-06-01</th>\n",
       "      <td>NaN</td>\n",
       "    </tr>\n",
       "    <tr>\n",
       "      <th>1958-07-01</th>\n",
       "      <td>315.625000</td>\n",
       "    </tr>\n",
       "    <tr>\n",
       "      <th>1958-08-01</th>\n",
       "      <td>314.950000</td>\n",
       "    </tr>\n",
       "    <tr>\n",
       "      <th>1958-09-01</th>\n",
       "      <td>313.500000</td>\n",
       "    </tr>\n",
       "    <tr>\n",
       "      <th>1958-10-01</th>\n",
       "      <td>NaN</td>\n",
       "    </tr>\n",
       "    <tr>\n",
       "      <th>1958-11-01</th>\n",
       "      <td>313.425000</td>\n",
       "    </tr>\n",
       "    <tr>\n",
       "      <th>1958-12-01</th>\n",
       "      <td>314.700000</td>\n",
       "    </tr>\n",
       "  </tbody>\n",
       "</table>\n",
       "</div>"
      ],
      "text/plain": [
       "                   co2\n",
       "date                  \n",
       "1958-03-01  316.100000\n",
       "1958-04-01  317.200000\n",
       "1958-05-01  317.433333\n",
       "1958-06-01         NaN\n",
       "1958-07-01  315.625000\n",
       "1958-08-01  314.950000\n",
       "1958-09-01  313.500000\n",
       "1958-10-01         NaN\n",
       "1958-11-01  313.425000\n",
       "1958-12-01  314.700000"
      ]
     },
     "execution_count": 7,
     "metadata": {},
     "output_type": "execute_result"
    }
   ],
   "source": [
    "# Group the time series into monthly buckets\n",
    "CO2_monthly = CO2.resample('MS')\n",
    "\n",
    "# Take the mean of each group \n",
    "CO2_monthly_mean = CO2_monthly.mean()\n",
    "\n",
    "# Display the first 10 elements of resulting time series\n",
    "CO2_monthly_mean.head(10)"
   ]
  },
  {
   "cell_type": "markdown",
   "metadata": {},
   "source": [
    "Looking at the index values, we can see that our time series now carries aggregated data on monthly terms, shown as `Freq: MS`. \n",
    "\n",
    "### Time-series Index Slicing for Data Selection\n",
    "\n",
    "Slice our dataset to only retrieve data points that come after the year 1990."
   ]
  },
  {
   "cell_type": "code",
   "execution_count": 8,
   "metadata": {},
   "outputs": [
    {
     "name": "stdout",
     "output_type": "stream",
     "text": [
      "              co2\n",
      "date             \n",
      "1990-01-06  353.4\n",
      "1990-01-13  353.5\n",
      "1990-01-20  353.8\n",
      "1990-01-27  353.9\n",
      "1990-02-03  354.1\n",
      "              co2\n",
      "date             \n",
      "2001-12-01  370.3\n",
      "2001-12-08  370.8\n",
      "2001-12-15  371.2\n",
      "2001-12-22  371.3\n",
      "2001-12-29  371.5\n"
     ]
    }
   ],
   "source": [
    "# Slice the timeseries to contain data after year 1990 \n",
    "CO2_1990_onwards = CO2['1990':]\n",
    "print(CO2_1990_onwards.head())\n",
    "print(CO2_1990_onwards.tail())"
   ]
  },
  {
   "cell_type": "markdown",
   "metadata": {},
   "source": [
    "Retrieve data starting from Jan 1990 to Jan 1991: "
   ]
  },
  {
   "cell_type": "code",
   "execution_count": 9,
   "metadata": {},
   "outputs": [
    {
     "name": "stdout",
     "output_type": "stream",
     "text": [
      "              co2\n",
      "date             \n",
      "1990-01-06  353.4\n",
      "1990-01-13  353.5\n",
      "1990-01-20  353.8\n",
      "1990-01-27  353.9\n",
      "1990-02-03  354.1\n",
      "1990-02-10  355.0\n",
      "1990-02-17  354.8\n",
      "1990-02-24  354.7\n",
      "1990-03-03  355.7\n",
      "1990-03-10  354.9\n",
      "1990-03-17  355.8\n",
      "1990-03-24  355.1\n",
      "1990-03-31  355.9\n",
      "1990-04-07  356.1\n",
      "1990-04-14  355.9\n",
      "1990-04-21  356.6\n",
      "1990-04-28  356.1\n",
      "1990-05-05  357.3\n",
      "1990-05-12  357.0\n",
      "1990-05-19  356.9\n",
      "1990-05-26  357.1\n",
      "1990-06-02  357.0\n",
      "1990-06-09  356.6\n",
      "1990-06-16  355.6\n",
      "1990-06-23  355.5\n",
      "1990-06-30  355.7\n",
      "1990-07-07  355.5\n",
      "1990-07-14  354.0\n",
      "1990-07-21  354.5\n",
      "1990-07-28  354.7\n",
      "1990-08-04  353.5\n",
      "1990-08-11  353.2\n",
      "1990-08-18  352.9\n",
      "1990-08-25  352.0\n",
      "1990-09-01  350.9\n",
      "1990-09-08  350.7\n",
      "1990-09-15  351.3\n",
      "1990-09-22  350.9\n",
      "1990-09-29  350.9\n",
      "1990-10-06  351.1\n",
      "1990-10-13  351.0\n",
      "1990-10-20  351.4\n",
      "1990-10-27  351.4\n",
      "1990-11-03  352.1\n",
      "1990-11-10  352.6\n",
      "1990-11-17  353.0\n",
      "1990-11-24  353.1\n",
      "1990-12-01  353.6\n",
      "1990-12-08  354.0\n",
      "1990-12-15  353.8\n",
      "1990-12-22  354.5\n",
      "1990-12-29  354.8\n"
     ]
    }
   ],
   "source": [
    "# Retrieve the data between 1st Jan 1990 to 1st Jan 1991\n",
    "CO2_1990_to_1991 = CO2.loc['1990-01-01':'1991-01-01']\n",
    "\n",
    "# Display the retrieved data\n",
    "print(CO2_1990_to_1991)"
   ]
  },
  {
   "cell_type": "markdown",
   "metadata": {},
   "source": [
    "## Missing Values\n",
    "\n",
    "Find the total number of missing values in the dataset."
   ]
  },
  {
   "cell_type": "code",
   "execution_count": 10,
   "metadata": {},
   "outputs": [
    {
     "data": {
      "text/plain": [
       "co2    59\n",
       "dtype: int64"
      ]
     },
     "execution_count": 10,
     "metadata": {},
     "output_type": "execute_result"
    }
   ],
   "source": [
    "# Find the total number of missing values in the time series\n",
    "CO2.isnull().sum()"
   ]
  },
  {
   "cell_type": "markdown",
   "metadata": {},
   "source": [
    "Remember that missing values can be filled in a multitude of ways. \n",
    "\n",
    "- Replace the missing values in `CO2_monthly_mean` with a previous valid value \n",
    "- Next, check if your attempt was successful by checking for number of missing values again "
   ]
  },
  {
   "cell_type": "code",
   "execution_count": 11,
   "metadata": {},
   "outputs": [
    {
     "data": {
      "text/plain": [
       "co2    0\n",
       "dtype: int64"
      ]
     },
     "execution_count": 11,
     "metadata": {},
     "output_type": "execute_result"
    }
   ],
   "source": [
    "# Perform backward filling of missing values\n",
    "CO2_final = CO2_monthly_mean.fillna(method='bfill')\n",
    "\n",
    "# Find the total number of missing values in the time series\n",
    "CO2_final.isnull().sum()"
   ]
  },
  {
   "cell_type": "markdown",
   "metadata": {},
   "source": [
    "Great! Now your time series data are ready for visualization and further analysis.\n",
    "\n",
    "## Summary\n",
    "\n",
    "In this introductory lab, you learned how to load and manipulate time series data in Python using pandas. You confirmed that the index was set appropriately, performed queries to subset the data, and practiced identifying and addressing missing values."
   ]
  }
 ],
 "metadata": {
  "kernelspec": {
   "display_name": "Python (learn-env)",
   "language": "python",
   "name": "learn-env"
  },
  "language_info": {
   "codemirror_mode": {
    "name": "ipython",
    "version": 3
   },
   "file_extension": ".py",
   "mimetype": "text/x-python",
   "name": "python",
   "nbconvert_exporter": "python",
   "pygments_lexer": "ipython3",
   "version": "3.8.5"
  }
 },
 "nbformat": 4,
 "nbformat_minor": 2
}
